{
 "cells": [
  {
   "cell_type": "code",
   "execution_count": 1,
   "metadata": {},
   "outputs": [],
   "source": [
    "from sklearn.datasets import load_iris\n",
    "import pandas as pd\n",
    "import numpy as np\n",
    "\n",
    "from sklearn.datasets import load_iris\n",
    "from matplotlib import pyplot as plt\n",
    "%matplotlib inline\n",
    "import seaborn as sns\n",
    "\n",
    "%config InlineBackend.figure_format = 'svg' \n",
    "%matplotlib inline\n",
    "\n",
    "\n",
    "from jupyterthemes import jtplot\n",
    "jtplot.style(figsize=(9.0, 6.0))\n",
    "\n",
    "import warnings\n",
    "warnings.simplefilter('ignore')"
   ]
  },
  {
   "cell_type": "markdown",
   "metadata": {},
   "source": [
    "Проектная работа по модулю “Построение моделей”\n",
    "\n",
    "В данной работе предлагается решить задачу бинарной классификации на большом признаковом множестве\n",
    "для датасета банка Santader (https://www.santanderbank.com/us/personal)\n",
    "1. Загрузить данные\n",
    "2. Провести описательный анализ предложенных данных\n",
    "3. Провести анализ корреляции переменных, отобразить взаимосвязи между переменными\n",
    "4. Провести стратегию Feature Selection (попробовать как минимум два различных подхода)\n",
    "5. Шкалировать данные несколькими способами (нормализация, стандартизация). Какой подход лучше?\n",
    "6. Попробовать стратегию oversamling и сравнить ее с неизмененной моделью\n",
    "7. Попробовать стратегию undersampling и сравнить ее с неизмененной моделью\n",
    "8. Сделать кросс-валидацию тренировочных данных с использованием подхода K-fold (n_folds=10)\n",
    "9. Решить задачу бинарной классификации и предсказать удовлетворение клиентов банка (переменная TARGE) \n",
    "10. Рассчитать Feature Importances для переменных модели\n",
    "11. Проверить качество классификации с использованием следующих метрик: Accuracy, F1-Score, Precision, Rec \n",
    "12. Построить Confusion Matrix для ваших результатов\n",
    "13. Загрузить ipython notebook с результатами работы на github репозиторий"
   ]
  },
  {
   "cell_type": "code",
   "execution_count": 4,
   "metadata": {},
   "outputs": [],
   "source": [
    "train = pd.read_csv('train.csv')\n",
    "test = pd.read_csv('test.csv')"
   ]
  },
  {
   "cell_type": "code",
   "execution_count": 8,
   "metadata": {},
   "outputs": [
    {
     "data": {
      "text/plain": [
       "0    73012\n",
       "1     3008\n",
       "Name: TARGET, dtype: int64"
      ]
     },
     "execution_count": 8,
     "metadata": {},
     "output_type": "execute_result"
    }
   ],
   "source": [
    "train['TARGET'].value_counts()"
   ]
  },
  {
   "cell_type": "code",
   "execution_count": 5,
   "metadata": {},
   "outputs": [
    {
     "name": "stdout",
     "output_type": "stream",
     "text": [
      "<class 'pandas.core.frame.DataFrame'>\n",
      "RangeIndex: 75818 entries, 0 to 75817\n",
      "Columns: 370 entries, ID to var38\n",
      "dtypes: float64(110), int64(260)\n",
      "memory usage: 214.0 MB\n"
     ]
    }
   ],
   "source": [
    "test.info()"
   ]
  },
  {
   "cell_type": "code",
   "execution_count": null,
   "metadata": {},
   "outputs": [],
   "source": []
  },
  {
   "cell_type": "code",
   "execution_count": null,
   "metadata": {},
   "outputs": [],
   "source": []
  },
  {
   "cell_type": "code",
   "execution_count": null,
   "metadata": {},
   "outputs": [],
   "source": []
  }
 ],
 "metadata": {
  "kernelspec": {
   "display_name": "Python 3",
   "language": "python",
   "name": "python3"
  },
  "language_info": {
   "codemirror_mode": {
    "name": "ipython",
    "version": 3
   },
   "file_extension": ".py",
   "mimetype": "text/x-python",
   "name": "python",
   "nbconvert_exporter": "python",
   "pygments_lexer": "ipython3",
   "version": "3.6.4"
  }
 },
 "nbformat": 4,
 "nbformat_minor": 2
}
